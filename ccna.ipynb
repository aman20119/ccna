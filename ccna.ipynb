{
  "nbformat": 4,
  "nbformat_minor": 0,
  "metadata": {
    "colab": {
      "name": "ccna.ipynb",
      "provenance": [],
      "authorship_tag": "ABX9TyOr/9vqXEhfXVHZGVw0NGti",
      "include_colab_link": true
    },
    "kernelspec": {
      "name": "python3",
      "display_name": "Python 3"
    },
    "language_info": {
      "name": "python"
    }
  },
  "cells": [
    {
      "cell_type": "markdown",
      "metadata": {
        "id": "view-in-github",
        "colab_type": "text"
      },
      "source": [
        "<a href=\"https://colab.research.google.com/github/aman20119/ccna/blob/main/ccna.ipynb\" target=\"_parent\"><img src=\"https://colab.research.google.com/assets/colab-badge.svg\" alt=\"Open In Colab\"/></a>"
      ]
    },
    {
      "cell_type": "markdown",
      "metadata": {
        "id": "_57T8Xj3uX6-"
      },
      "source": [
        "#CCNA_PROJECT"
      ]
    },
    {
      "cell_type": "code",
      "metadata": {
        "id": "JA8BQUQDtIIc"
      },
      "source": [
        "import numpy as np"
      ],
      "execution_count": 15,
      "outputs": []
    },
    {
      "cell_type": "code",
      "metadata": {
        "id": "akvv85uFvu7S"
      },
      "source": [
        "import pandas as pd"
      ],
      "execution_count": 16,
      "outputs": []
    },
    {
      "cell_type": "code",
      "metadata": {
        "id": "vm0d-gkywBse"
      },
      "source": [
        "import matplotlib.pyplot as plt"
      ],
      "execution_count": 17,
      "outputs": []
    },
    {
      "cell_type": "code",
      "metadata": {
        "colab": {
          "base_uri": "https://localhost:8080/"
        },
        "id": "JF8G8J26wFjG",
        "outputId": "2dcb5cbe-7bd1-4f33-8def-becda1309c44"
      },
      "source": [
        "!ls"
      ],
      "execution_count": 18,
      "outputs": [
        {
          "output_type": "stream",
          "text": [
            "aman.csv  sample_data\n"
          ],
          "name": "stdout"
        }
      ]
    },
    {
      "cell_type": "code",
      "metadata": {
        "id": "pXF0ePQjwIlu"
      },
      "source": [
        "data = pd.read_csv('aman.csv')"
      ],
      "execution_count": 19,
      "outputs": []
    },
    {
      "cell_type": "code",
      "metadata": {
        "colab": {
          "base_uri": "https://localhost:8080/"
        },
        "id": "as4pdjQPQa8K",
        "outputId": "59b53a9e-147d-4dbb-fd55-6c353dcc2099"
      },
      "source": [
        "print(\"DATA IS THE ORIGINAL FORM OF DATA...............\")"
      ],
      "execution_count": 20,
      "outputs": [
        {
          "output_type": "stream",
          "text": [
            "DATA IS THE ORIGINAL FORM OF DATA...............\n"
          ],
          "name": "stdout"
        }
      ]
    },
    {
      "cell_type": "code",
      "metadata": {
        "colab": {
          "base_uri": "https://localhost:8080/"
        },
        "id": "P1P6KxYix8RA",
        "outputId": "cf24ad8f-ed06-4616-a07f-1200a99f91f4"
      },
      "source": [
        "data.shape"
      ],
      "execution_count": 21,
      "outputs": [
        {
          "output_type": "execute_result",
          "data": {
            "text/plain": [
              "(44320, 12)"
            ]
          },
          "metadata": {
            "tags": []
          },
          "execution_count": 21
        }
      ]
    },
    {
      "cell_type": "code",
      "metadata": {
        "colab": {
          "base_uri": "https://localhost:8080/"
        },
        "id": "KvpoiV_3wbxv",
        "outputId": "96b6973e-b3c2-435b-9b4e-5c826549505f"
      },
      "source": [
        "data.head"
      ],
      "execution_count": 22,
      "outputs": [
        {
          "output_type": "execute_result",
          "data": {
            "text/plain": [
              "<bound method NDFrame.head of          No.  ...                                               Info\n",
              "0          1  ...  11687  >  80 [SYN] Seq=0 Win=65535 Len=0 MSS=1...\n",
              "1          2  ...      443  >  11633 [ACK] Seq=1 Ack=1 Win=501 Len=0\n",
              "2          3  ...  [TCP ACKed unseen segment] 11633  >  443 [ACK]...\n",
              "3          4  ...  80  >  11687 [SYN, ACK] Seq=0 Ack=1 Win=29200 ...\n",
              "4          5  ...     11687  >  80 [ACK] Seq=1 Ack=1 Win=65535 Len=0\n",
              "...      ...  ...                                                ...\n",
              "44315  44316  ...  [TCP Keep-Alive ACK] 443  >  11887 [ACK] Seq=1...\n",
              "44316  44317  ...  [TCP Keep-Alive] 11827  >  5228 [ACK] Seq=784 ...\n",
              "44317  44318  ...  [TCP Keep-Alive ACK] 5228  >  11827 [ACK] Seq=...\n",
              "44318  44319  ...  [TCP Keep-Alive] 443  >  11633 [ACK] Seq=1 Ack...\n",
              "44319  44320  ...  [TCP Keep-Alive ACK] 11633  >  443 [ACK] Seq=1...\n",
              "\n",
              "[44320 rows x 12 columns]>"
            ]
          },
          "metadata": {
            "tags": []
          },
          "execution_count": 22
        }
      ]
    },
    {
      "cell_type": "markdown",
      "metadata": {
        "id": "cIDx3Dj7yzMk"
      },
      "source": [
        "#DATA_DESCRIPTION"
      ]
    },
    {
      "cell_type": "code",
      "metadata": {
        "colab": {
          "base_uri": "https://localhost:8080/",
          "height": 371
        },
        "id": "5-OIGJ1Zws77",
        "outputId": "0d6fc367-07dd-4ed9-ce44-0c7aec20509c"
      },
      "source": [
        "data.head(5)"
      ],
      "execution_count": 23,
      "outputs": [
        {
          "output_type": "execute_result",
          "data": {
            "text/html": [
              "<div>\n",
              "<style scoped>\n",
              "    .dataframe tbody tr th:only-of-type {\n",
              "        vertical-align: middle;\n",
              "    }\n",
              "\n",
              "    .dataframe tbody tr th {\n",
              "        vertical-align: top;\n",
              "    }\n",
              "\n",
              "    .dataframe thead th {\n",
              "        text-align: right;\n",
              "    }\n",
              "</style>\n",
              "<table border=\"1\" class=\"dataframe\">\n",
              "  <thead>\n",
              "    <tr style=\"text-align: right;\">\n",
              "      <th></th>\n",
              "      <th>No.</th>\n",
              "      <th>Time</th>\n",
              "      <th>Source</th>\n",
              "      <th>Destination</th>\n",
              "      <th>Protocol</th>\n",
              "      <th>Length</th>\n",
              "      <th>Calculated window size</th>\n",
              "      <th>Next Sequence Number</th>\n",
              "      <th>Sequence Number</th>\n",
              "      <th>Window size scaling factor</th>\n",
              "      <th>Type</th>\n",
              "      <th>Info</th>\n",
              "    </tr>\n",
              "  </thead>\n",
              "  <tbody>\n",
              "    <tr>\n",
              "      <th>0</th>\n",
              "      <td>1</td>\n",
              "      <td>0.000000</td>\n",
              "      <td>192.168.43.224</td>\n",
              "      <td>139.59.27.79</td>\n",
              "      <td>TCP</td>\n",
              "      <td>66</td>\n",
              "      <td>65535.0</td>\n",
              "      <td>1.0</td>\n",
              "      <td>0.0</td>\n",
              "      <td>NaN</td>\n",
              "      <td>IPv4</td>\n",
              "      <td>11687  &gt;  80 [SYN] Seq=0 Win=65535 Len=0 MSS=1...</td>\n",
              "    </tr>\n",
              "    <tr>\n",
              "      <th>1</th>\n",
              "      <td>2</td>\n",
              "      <td>0.003273</td>\n",
              "      <td>51.83.238.220</td>\n",
              "      <td>192.168.43.224</td>\n",
              "      <td>TCP</td>\n",
              "      <td>54</td>\n",
              "      <td>501.0</td>\n",
              "      <td>1.0</td>\n",
              "      <td>1.0</td>\n",
              "      <td>-1.0</td>\n",
              "      <td>IPv4</td>\n",
              "      <td>443  &gt;  11633 [ACK] Seq=1 Ack=1 Win=501 Len=0</td>\n",
              "    </tr>\n",
              "    <tr>\n",
              "      <th>2</th>\n",
              "      <td>3</td>\n",
              "      <td>0.003310</td>\n",
              "      <td>192.168.43.224</td>\n",
              "      <td>51.83.238.220</td>\n",
              "      <td>TCP</td>\n",
              "      <td>54</td>\n",
              "      <td>255.0</td>\n",
              "      <td>1.0</td>\n",
              "      <td>1.0</td>\n",
              "      <td>-1.0</td>\n",
              "      <td>IPv4</td>\n",
              "      <td>[TCP ACKed unseen segment] 11633  &gt;  443 [ACK]...</td>\n",
              "    </tr>\n",
              "    <tr>\n",
              "      <th>3</th>\n",
              "      <td>4</td>\n",
              "      <td>0.104315</td>\n",
              "      <td>139.59.27.79</td>\n",
              "      <td>192.168.43.224</td>\n",
              "      <td>TCP</td>\n",
              "      <td>58</td>\n",
              "      <td>29200.0</td>\n",
              "      <td>1.0</td>\n",
              "      <td>0.0</td>\n",
              "      <td>NaN</td>\n",
              "      <td>IPv4</td>\n",
              "      <td>80  &gt;  11687 [SYN, ACK] Seq=0 Ack=1 Win=29200 ...</td>\n",
              "    </tr>\n",
              "    <tr>\n",
              "      <th>4</th>\n",
              "      <td>5</td>\n",
              "      <td>0.104412</td>\n",
              "      <td>192.168.43.224</td>\n",
              "      <td>139.59.27.79</td>\n",
              "      <td>TCP</td>\n",
              "      <td>54</td>\n",
              "      <td>65535.0</td>\n",
              "      <td>1.0</td>\n",
              "      <td>1.0</td>\n",
              "      <td>-2.0</td>\n",
              "      <td>IPv4</td>\n",
              "      <td>11687  &gt;  80 [ACK] Seq=1 Ack=1 Win=65535 Len=0</td>\n",
              "    </tr>\n",
              "  </tbody>\n",
              "</table>\n",
              "</div>"
            ],
            "text/plain": [
              "   No.      Time  ...  Type                                               Info\n",
              "0    1  0.000000  ...  IPv4  11687  >  80 [SYN] Seq=0 Win=65535 Len=0 MSS=1...\n",
              "1    2  0.003273  ...  IPv4      443  >  11633 [ACK] Seq=1 Ack=1 Win=501 Len=0\n",
              "2    3  0.003310  ...  IPv4  [TCP ACKed unseen segment] 11633  >  443 [ACK]...\n",
              "3    4  0.104315  ...  IPv4  80  >  11687 [SYN, ACK] Seq=0 Ack=1 Win=29200 ...\n",
              "4    5  0.104412  ...  IPv4     11687  >  80 [ACK] Seq=1 Ack=1 Win=65535 Len=0\n",
              "\n",
              "[5 rows x 12 columns]"
            ]
          },
          "metadata": {
            "tags": []
          },
          "execution_count": 23
        }
      ]
    },
    {
      "cell_type": "code",
      "metadata": {
        "colab": {
          "base_uri": "https://localhost:8080/",
          "height": 875
        },
        "id": "-O3fvjLcwyVV",
        "outputId": "ecbc3284-99b4-455e-c198-1052f2762e0d"
      },
      "source": [
        "data.tail(5)"
      ],
      "execution_count": 24,
      "outputs": [
        {
          "output_type": "execute_result",
          "data": {
            "text/html": [
              "<div>\n",
              "<style scoped>\n",
              "    .dataframe tbody tr th:only-of-type {\n",
              "        vertical-align: middle;\n",
              "    }\n",
              "\n",
              "    .dataframe tbody tr th {\n",
              "        vertical-align: top;\n",
              "    }\n",
              "\n",
              "    .dataframe thead th {\n",
              "        text-align: right;\n",
              "    }\n",
              "</style>\n",
              "<table border=\"1\" class=\"dataframe\">\n",
              "  <thead>\n",
              "    <tr style=\"text-align: right;\">\n",
              "      <th></th>\n",
              "      <th>No.</th>\n",
              "      <th>Time</th>\n",
              "      <th>Source</th>\n",
              "      <th>Destination</th>\n",
              "      <th>Protocol</th>\n",
              "      <th>Length</th>\n",
              "      <th>Calculated window size</th>\n",
              "      <th>Next Sequence Number</th>\n",
              "      <th>Sequence Number</th>\n",
              "      <th>Window size scaling factor</th>\n",
              "      <th>Type</th>\n",
              "      <th>Info</th>\n",
              "    </tr>\n",
              "  </thead>\n",
              "  <tbody>\n",
              "    <tr>\n",
              "      <th>44315</th>\n",
              "      <td>44316</td>\n",
              "      <td>2312.768311</td>\n",
              "      <td>2620:1ec:42::132</td>\n",
              "      <td>2401:4900:3b27:bf78:b885:bf9e:2870:91ab</td>\n",
              "      <td>TCP</td>\n",
              "      <td>86</td>\n",
              "      <td>524288.0</td>\n",
              "      <td>15564.0</td>\n",
              "      <td>15564.0</td>\n",
              "      <td>256.0</td>\n",
              "      <td>IPv6</td>\n",
              "      <td>[TCP Keep-Alive ACK] 443  &gt;  11887 [ACK] Seq=1...</td>\n",
              "    </tr>\n",
              "    <tr>\n",
              "      <th>44316</th>\n",
              "      <td>44317</td>\n",
              "      <td>2314.981869</td>\n",
              "      <td>2401:4900:3b27:bf78:b885:bf9e:2870:91ab</td>\n",
              "      <td>2404:6800:4003:c00::bc</td>\n",
              "      <td>TCP</td>\n",
              "      <td>75</td>\n",
              "      <td>65024.0</td>\n",
              "      <td>785.0</td>\n",
              "      <td>784.0</td>\n",
              "      <td>256.0</td>\n",
              "      <td>IPv6</td>\n",
              "      <td>[TCP Keep-Alive] 11827  &gt;  5228 [ACK] Seq=784 ...</td>\n",
              "    </tr>\n",
              "    <tr>\n",
              "      <th>44317</th>\n",
              "      <td>44318</td>\n",
              "      <td>2315.180729</td>\n",
              "      <td>2404:6800:4003:c00::bc</td>\n",
              "      <td>2401:4900:3b27:bf78:b885:bf9e:2870:91ab</td>\n",
              "      <td>TCP</td>\n",
              "      <td>86</td>\n",
              "      <td>67840.0</td>\n",
              "      <td>4538.0</td>\n",
              "      <td>4538.0</td>\n",
              "      <td>256.0</td>\n",
              "      <td>IPv6</td>\n",
              "      <td>[TCP Keep-Alive ACK] 5228  &gt;  11827 [ACK] Seq=...</td>\n",
              "    </tr>\n",
              "    <tr>\n",
              "      <th>44318</th>\n",
              "      <td>44319</td>\n",
              "      <td>2320.300251</td>\n",
              "      <td>51.83.238.220</td>\n",
              "      <td>192.168.43.224</td>\n",
              "      <td>TCP</td>\n",
              "      <td>54</td>\n",
              "      <td>501.0</td>\n",
              "      <td>1.0</td>\n",
              "      <td>1.0</td>\n",
              "      <td>-1.0</td>\n",
              "      <td>IPv4</td>\n",
              "      <td>[TCP Keep-Alive] 443  &gt;  11633 [ACK] Seq=1 Ack...</td>\n",
              "    </tr>\n",
              "    <tr>\n",
              "      <th>44319</th>\n",
              "      <td>44320</td>\n",
              "      <td>2320.300295</td>\n",
              "      <td>192.168.43.224</td>\n",
              "      <td>51.83.238.220</td>\n",
              "      <td>TCP</td>\n",
              "      <td>54</td>\n",
              "      <td>255.0</td>\n",
              "      <td>1.0</td>\n",
              "      <td>1.0</td>\n",
              "      <td>-1.0</td>\n",
              "      <td>IPv4</td>\n",
              "      <td>[TCP Keep-Alive ACK] 11633  &gt;  443 [ACK] Seq=1...</td>\n",
              "    </tr>\n",
              "  </tbody>\n",
              "</table>\n",
              "</div>"
            ],
            "text/plain": [
              "         No.  ...                                               Info\n",
              "44315  44316  ...  [TCP Keep-Alive ACK] 443  >  11887 [ACK] Seq=1...\n",
              "44316  44317  ...  [TCP Keep-Alive] 11827  >  5228 [ACK] Seq=784 ...\n",
              "44317  44318  ...  [TCP Keep-Alive ACK] 5228  >  11827 [ACK] Seq=...\n",
              "44318  44319  ...  [TCP Keep-Alive] 443  >  11633 [ACK] Seq=1 Ack...\n",
              "44319  44320  ...  [TCP Keep-Alive ACK] 11633  >  443 [ACK] Seq=1...\n",
              "\n",
              "[5 rows x 12 columns]"
            ]
          },
          "metadata": {
            "tags": []
          },
          "execution_count": 24
        }
      ]
    },
    {
      "cell_type": "code",
      "metadata": {
        "colab": {
          "base_uri": "https://localhost:8080/",
          "height": 288
        },
        "id": "k4aKwLj6yIl-",
        "outputId": "4c283a5e-226c-4eaa-8611-d0c34366a413"
      },
      "source": [
        "data.describe()"
      ],
      "execution_count": 25,
      "outputs": [
        {
          "output_type": "execute_result",
          "data": {
            "text/html": [
              "<div>\n",
              "<style scoped>\n",
              "    .dataframe tbody tr th:only-of-type {\n",
              "        vertical-align: middle;\n",
              "    }\n",
              "\n",
              "    .dataframe tbody tr th {\n",
              "        vertical-align: top;\n",
              "    }\n",
              "\n",
              "    .dataframe thead th {\n",
              "        text-align: right;\n",
              "    }\n",
              "</style>\n",
              "<table border=\"1\" class=\"dataframe\">\n",
              "  <thead>\n",
              "    <tr style=\"text-align: right;\">\n",
              "      <th></th>\n",
              "      <th>No.</th>\n",
              "      <th>Time</th>\n",
              "      <th>Length</th>\n",
              "      <th>Calculated window size</th>\n",
              "      <th>Next Sequence Number</th>\n",
              "      <th>Sequence Number</th>\n",
              "      <th>Window size scaling factor</th>\n",
              "    </tr>\n",
              "  </thead>\n",
              "  <tbody>\n",
              "    <tr>\n",
              "      <th>count</th>\n",
              "      <td>44320.000000</td>\n",
              "      <td>44320.000000</td>\n",
              "      <td>44320.000000</td>\n",
              "      <td>4.326900e+04</td>\n",
              "      <td>4.326900e+04</td>\n",
              "      <td>4.326900e+04</td>\n",
              "      <td>42788.000000</td>\n",
              "    </tr>\n",
              "    <tr>\n",
              "      <th>mean</th>\n",
              "      <td>22160.500000</td>\n",
              "      <td>454.219372</td>\n",
              "      <td>992.329377</td>\n",
              "      <td>2.460060e+05</td>\n",
              "      <td>1.946504e+06</td>\n",
              "      <td>1.945557e+06</td>\n",
              "      <td>216.855660</td>\n",
              "    </tr>\n",
              "    <tr>\n",
              "      <th>std</th>\n",
              "      <td>12794.226302</td>\n",
              "      <td>345.169564</td>\n",
              "      <td>1404.944138</td>\n",
              "      <td>3.445290e+05</td>\n",
              "      <td>3.837328e+06</td>\n",
              "      <td>3.836620e+06</td>\n",
              "      <td>78.816393</td>\n",
              "    </tr>\n",
              "    <tr>\n",
              "      <th>min</th>\n",
              "      <td>1.000000</td>\n",
              "      <td>0.000000</td>\n",
              "      <td>42.000000</td>\n",
              "      <td>0.000000e+00</td>\n",
              "      <td>1.000000e+00</td>\n",
              "      <td>0.000000e+00</td>\n",
              "      <td>-2.000000</td>\n",
              "    </tr>\n",
              "    <tr>\n",
              "      <th>25%</th>\n",
              "      <td>11080.750000</td>\n",
              "      <td>144.917100</td>\n",
              "      <td>74.000000</td>\n",
              "      <td>6.476800e+04</td>\n",
              "      <td>1.108000e+03</td>\n",
              "      <td>8.290000e+02</td>\n",
              "      <td>256.000000</td>\n",
              "    </tr>\n",
              "    <tr>\n",
              "      <th>50%</th>\n",
              "      <td>22160.500000</td>\n",
              "      <td>503.858634</td>\n",
              "      <td>138.000000</td>\n",
              "      <td>1.034240e+05</td>\n",
              "      <td>2.504300e+04</td>\n",
              "      <td>2.473300e+04</td>\n",
              "      <td>256.000000</td>\n",
              "    </tr>\n",
              "    <tr>\n",
              "      <th>75%</th>\n",
              "      <td>33240.250000</td>\n",
              "      <td>572.112975</td>\n",
              "      <td>1474.000000</td>\n",
              "      <td>2.621440e+05</td>\n",
              "      <td>1.895923e+06</td>\n",
              "      <td>1.894703e+06</td>\n",
              "      <td>256.000000</td>\n",
              "    </tr>\n",
              "    <tr>\n",
              "      <th>max</th>\n",
              "      <td>44320.000000</td>\n",
              "      <td>2320.300295</td>\n",
              "      <td>29454.000000</td>\n",
              "      <td>2.144768e+06</td>\n",
              "      <td>1.805179e+07</td>\n",
              "      <td>1.805179e+07</td>\n",
              "      <td>1024.000000</td>\n",
              "    </tr>\n",
              "  </tbody>\n",
              "</table>\n",
              "</div>"
            ],
            "text/plain": [
              "                No.          Time  ...  Sequence Number  Window size scaling factor\n",
              "count  44320.000000  44320.000000  ...     4.326900e+04                42788.000000\n",
              "mean   22160.500000    454.219372  ...     1.945557e+06                  216.855660\n",
              "std    12794.226302    345.169564  ...     3.836620e+06                   78.816393\n",
              "min        1.000000      0.000000  ...     0.000000e+00                   -2.000000\n",
              "25%    11080.750000    144.917100  ...     8.290000e+02                  256.000000\n",
              "50%    22160.500000    503.858634  ...     2.473300e+04                  256.000000\n",
              "75%    33240.250000    572.112975  ...     1.894703e+06                  256.000000\n",
              "max    44320.000000   2320.300295  ...     1.805179e+07                 1024.000000\n",
              "\n",
              "[8 rows x 7 columns]"
            ]
          },
          "metadata": {
            "tags": []
          },
          "execution_count": 25
        }
      ]
    },
    {
      "cell_type": "code",
      "metadata": {
        "colab": {
          "base_uri": "https://localhost:8080/"
        },
        "id": "RAIrJY8Mw9jc",
        "outputId": "c07cd64a-b76a-4220-d3fa-e97ff976050f"
      },
      "source": [
        "data.columns"
      ],
      "execution_count": 26,
      "outputs": [
        {
          "output_type": "execute_result",
          "data": {
            "text/plain": [
              "Index(['No.', 'Time', 'Source', 'Destination', 'Protocol', 'Length',\n",
              "       'Calculated window size', 'Next Sequence Number', 'Sequence Number',\n",
              "       'Window size scaling factor', 'Type', 'Info'],\n",
              "      dtype='object')"
            ]
          },
          "metadata": {
            "tags": []
          },
          "execution_count": 26
        }
      ]
    },
    {
      "cell_type": "code",
      "metadata": {
        "colab": {
          "base_uri": "https://localhost:8080/"
        },
        "id": "TrUZoe81xGNl",
        "outputId": "49ea984b-a45a-4fcd-e5e1-2d4a44d0c822"
      },
      "source": [
        "data.info()"
      ],
      "execution_count": 27,
      "outputs": [
        {
          "output_type": "stream",
          "text": [
            "<class 'pandas.core.frame.DataFrame'>\n",
            "RangeIndex: 44320 entries, 0 to 44319\n",
            "Data columns (total 12 columns):\n",
            " #   Column                      Non-Null Count  Dtype  \n",
            "---  ------                      --------------  -----  \n",
            " 0   No.                         44320 non-null  int64  \n",
            " 1   Time                        44320 non-null  float64\n",
            " 2   Source                      44320 non-null  object \n",
            " 3   Destination                 44320 non-null  object \n",
            " 4   Protocol                    44320 non-null  object \n",
            " 5   Length                      44320 non-null  int64  \n",
            " 6   Calculated window size      43269 non-null  float64\n",
            " 7   Next Sequence Number        43269 non-null  float64\n",
            " 8   Sequence Number             43269 non-null  float64\n",
            " 9   Window size scaling factor  42788 non-null  float64\n",
            " 10  Type                        44320 non-null  object \n",
            " 11  Info                        44320 non-null  object \n",
            "dtypes: float64(5), int64(2), object(5)\n",
            "memory usage: 4.1+ MB\n"
          ],
          "name": "stdout"
        }
      ]
    },
    {
      "cell_type": "markdown",
      "metadata": {
        "id": "-hvKK-Ldyi40"
      },
      "source": [
        "#DROPPING_THE_INFO_COLUMN"
      ]
    },
    {
      "cell_type": "code",
      "metadata": {
        "id": "GlLgz6F-xcfa"
      },
      "source": [
        "data = data.drop(columns=\"Info\")"
      ],
      "execution_count": 28,
      "outputs": []
    },
    {
      "cell_type": "markdown",
      "metadata": {
        "id": "T7o1ymXsy8z-"
      },
      "source": [
        "##AFTER_DROPPING_INFO_COLUMN"
      ]
    },
    {
      "cell_type": "code",
      "metadata": {
        "colab": {
          "base_uri": "https://localhost:8080/",
          "height": 215
        },
        "id": "-FLTu1UUyhVs",
        "outputId": "7b4b2cb7-a3b5-46e0-ac22-41bd601acbf0"
      },
      "source": [
        "data.head(5)"
      ],
      "execution_count": 29,
      "outputs": [
        {
          "output_type": "execute_result",
          "data": {
            "text/html": [
              "<div>\n",
              "<style scoped>\n",
              "    .dataframe tbody tr th:only-of-type {\n",
              "        vertical-align: middle;\n",
              "    }\n",
              "\n",
              "    .dataframe tbody tr th {\n",
              "        vertical-align: top;\n",
              "    }\n",
              "\n",
              "    .dataframe thead th {\n",
              "        text-align: right;\n",
              "    }\n",
              "</style>\n",
              "<table border=\"1\" class=\"dataframe\">\n",
              "  <thead>\n",
              "    <tr style=\"text-align: right;\">\n",
              "      <th></th>\n",
              "      <th>No.</th>\n",
              "      <th>Time</th>\n",
              "      <th>Source</th>\n",
              "      <th>Destination</th>\n",
              "      <th>Protocol</th>\n",
              "      <th>Length</th>\n",
              "      <th>Calculated window size</th>\n",
              "      <th>Next Sequence Number</th>\n",
              "      <th>Sequence Number</th>\n",
              "      <th>Window size scaling factor</th>\n",
              "      <th>Type</th>\n",
              "    </tr>\n",
              "  </thead>\n",
              "  <tbody>\n",
              "    <tr>\n",
              "      <th>0</th>\n",
              "      <td>1</td>\n",
              "      <td>0.000000</td>\n",
              "      <td>192.168.43.224</td>\n",
              "      <td>139.59.27.79</td>\n",
              "      <td>TCP</td>\n",
              "      <td>66</td>\n",
              "      <td>65535.0</td>\n",
              "      <td>1.0</td>\n",
              "      <td>0.0</td>\n",
              "      <td>NaN</td>\n",
              "      <td>IPv4</td>\n",
              "    </tr>\n",
              "    <tr>\n",
              "      <th>1</th>\n",
              "      <td>2</td>\n",
              "      <td>0.003273</td>\n",
              "      <td>51.83.238.220</td>\n",
              "      <td>192.168.43.224</td>\n",
              "      <td>TCP</td>\n",
              "      <td>54</td>\n",
              "      <td>501.0</td>\n",
              "      <td>1.0</td>\n",
              "      <td>1.0</td>\n",
              "      <td>-1.0</td>\n",
              "      <td>IPv4</td>\n",
              "    </tr>\n",
              "    <tr>\n",
              "      <th>2</th>\n",
              "      <td>3</td>\n",
              "      <td>0.003310</td>\n",
              "      <td>192.168.43.224</td>\n",
              "      <td>51.83.238.220</td>\n",
              "      <td>TCP</td>\n",
              "      <td>54</td>\n",
              "      <td>255.0</td>\n",
              "      <td>1.0</td>\n",
              "      <td>1.0</td>\n",
              "      <td>-1.0</td>\n",
              "      <td>IPv4</td>\n",
              "    </tr>\n",
              "    <tr>\n",
              "      <th>3</th>\n",
              "      <td>4</td>\n",
              "      <td>0.104315</td>\n",
              "      <td>139.59.27.79</td>\n",
              "      <td>192.168.43.224</td>\n",
              "      <td>TCP</td>\n",
              "      <td>58</td>\n",
              "      <td>29200.0</td>\n",
              "      <td>1.0</td>\n",
              "      <td>0.0</td>\n",
              "      <td>NaN</td>\n",
              "      <td>IPv4</td>\n",
              "    </tr>\n",
              "    <tr>\n",
              "      <th>4</th>\n",
              "      <td>5</td>\n",
              "      <td>0.104412</td>\n",
              "      <td>192.168.43.224</td>\n",
              "      <td>139.59.27.79</td>\n",
              "      <td>TCP</td>\n",
              "      <td>54</td>\n",
              "      <td>65535.0</td>\n",
              "      <td>1.0</td>\n",
              "      <td>1.0</td>\n",
              "      <td>-2.0</td>\n",
              "      <td>IPv4</td>\n",
              "    </tr>\n",
              "  </tbody>\n",
              "</table>\n",
              "</div>"
            ],
            "text/plain": [
              "   No.      Time  ... Window size scaling factor  Type\n",
              "0    1  0.000000  ...                        NaN  IPv4\n",
              "1    2  0.003273  ...                       -1.0  IPv4\n",
              "2    3  0.003310  ...                       -1.0  IPv4\n",
              "3    4  0.104315  ...                        NaN  IPv4\n",
              "4    5  0.104412  ...                       -2.0  IPv4\n",
              "\n",
              "[5 rows x 11 columns]"
            ]
          },
          "metadata": {
            "tags": []
          },
          "execution_count": 29
        }
      ]
    },
    {
      "cell_type": "markdown",
      "metadata": {
        "id": "YFRULWuE1Rah"
      },
      "source": [
        "###NUMBER_OF_COUNT_OF_SPECIES"
      ]
    },
    {
      "cell_type": "markdown",
      "metadata": {
        "id": "wF0KvF2P0d_C"
      },
      "source": [
        "###NUMBER_OF_NULL_VALUES"
      ]
    },
    {
      "cell_type": "code",
      "metadata": {
        "colab": {
          "base_uri": "https://localhost:8080/"
        },
        "id": "aJoIfbdI1WSo",
        "outputId": "07a34653-e872-4b94-d9ed-77a269addafd"
      },
      "source": [
        "data['Protocol'].value_counts()"
      ],
      "execution_count": 30,
      "outputs": [
        {
          "output_type": "execute_result",
          "data": {
            "text/plain": [
              "TCP         35372\n",
              "TLSv1.3      6906\n",
              "TLSv1.2       928\n",
              "DNS           495\n",
              "SSDP          198\n",
              "ARP           134\n",
              "ICMPv6         96\n",
              "MDNS           74\n",
              "HTTP           58\n",
              "LLMNR          34\n",
              "NBNS           12\n",
              "IGMPv3          5\n",
              "SSLv2           4\n",
              "DHCP            3\n",
              "HTTP/XML        1\n",
              "Name: Protocol, dtype: int64"
            ]
          },
          "metadata": {
            "tags": []
          },
          "execution_count": 30
        }
      ]
    },
    {
      "cell_type": "code",
      "metadata": {
        "colab": {
          "base_uri": "https://localhost:8080/"
        },
        "id": "jknUOQx81hC0",
        "outputId": "897a6e8d-d237-4e40-d5e0-5d91f7867a7d"
      },
      "source": [
        "data['Type'].value_counts()"
      ],
      "execution_count": 31,
      "outputs": [
        {
          "output_type": "execute_result",
          "data": {
            "text/plain": [
              "IPv6    24744\n",
              "IPv4    19442\n",
              "ARP       134\n",
              "Name: Type, dtype: int64"
            ]
          },
          "metadata": {
            "tags": []
          },
          "execution_count": 31
        }
      ]
    },
    {
      "cell_type": "code",
      "metadata": {
        "colab": {
          "base_uri": "https://localhost:8080/"
        },
        "id": "GGyLaSe41zyK",
        "outputId": "293224a7-575e-4af0-db6f-3818acd17dae"
      },
      "source": [
        "data['Window size scaling factor'].value_counts()"
      ],
      "execution_count": 32,
      "outputs": [
        {
          "output_type": "execute_result",
          "data": {
            "text/plain": [
              " 256.0     32330\n",
              " 128.0      7603\n",
              "-2.0        1910\n",
              "-1.0         879\n",
              " 1024.0       33\n",
              " 1.0          31\n",
              " 16.0          2\n",
              "Name: Window size scaling factor, dtype: int64"
            ]
          },
          "metadata": {
            "tags": []
          },
          "execution_count": 32
        }
      ]
    },
    {
      "cell_type": "code",
      "metadata": {
        "colab": {
          "base_uri": "https://localhost:8080/"
        },
        "id": "IlDPiByYsvpN",
        "outputId": "21b840ff-07ce-442d-9c0c-8beb5df58c91"
      },
      "source": [
        "data['Calculated window size'].value_counts()"
      ],
      "execution_count": 69,
      "outputs": [
        {
          "output_type": "execute_result",
          "data": {
            "text/plain": [
              "29312.0     7579\n",
              "262144.0    5500\n",
              "397568.0    1884\n",
              "65792.0     1746\n",
              "795136.0    1729\n",
              "            ... \n",
              "7864.0         1\n",
              "77568.0        1\n",
              "81152.0        1\n",
              "396288.0       1\n",
              "225280.0       1\n",
              "Name: Calculated window size, Length: 491, dtype: int64"
            ]
          },
          "metadata": {
            "tags": []
          },
          "execution_count": 69
        }
      ]
    },
    {
      "cell_type": "code",
      "metadata": {
        "colab": {
          "base_uri": "https://localhost:8080/"
        },
        "id": "Xm-dh_6_zHUd",
        "outputId": "5499810f-d00c-460e-d40c-b6640118ce72"
      },
      "source": [
        "data.isna().sum()"
      ],
      "execution_count": 33,
      "outputs": [
        {
          "output_type": "execute_result",
          "data": {
            "text/plain": [
              "No.                              0\n",
              "Time                             0\n",
              "Source                           0\n",
              "Destination                      0\n",
              "Protocol                         0\n",
              "Length                           0\n",
              "Calculated window size        1051\n",
              "Next Sequence Number          1051\n",
              "Sequence Number               1051\n",
              "Window size scaling factor    1532\n",
              "Type                             0\n",
              "dtype: int64"
            ]
          },
          "metadata": {
            "tags": []
          },
          "execution_count": 33
        }
      ]
    },
    {
      "cell_type": "markdown",
      "metadata": {
        "id": "fH_6tgbu0kYn"
      },
      "source": [
        "###FILTERING_THE_NULL_VALUES"
      ]
    },
    {
      "cell_type": "markdown",
      "metadata": {
        "id": "ZLCln5_p2Ghb"
      },
      "source": [
        "###WHERE_WE_DROP_THE_NULL_VALUES"
      ]
    },
    {
      "cell_type": "code",
      "metadata": {
        "colab": {
          "base_uri": "https://localhost:8080/",
          "height": 479
        },
        "id": "qfmm3RyO0bQd",
        "outputId": "e5093cd4-1705-490d-d114-8d29df3e8e66"
      },
      "source": [
        "data.dropna()"
      ],
      "execution_count": 34,
      "outputs": [
        {
          "output_type": "execute_result",
          "data": {
            "text/html": [
              "<div>\n",
              "<style scoped>\n",
              "    .dataframe tbody tr th:only-of-type {\n",
              "        vertical-align: middle;\n",
              "    }\n",
              "\n",
              "    .dataframe tbody tr th {\n",
              "        vertical-align: top;\n",
              "    }\n",
              "\n",
              "    .dataframe thead th {\n",
              "        text-align: right;\n",
              "    }\n",
              "</style>\n",
              "<table border=\"1\" class=\"dataframe\">\n",
              "  <thead>\n",
              "    <tr style=\"text-align: right;\">\n",
              "      <th></th>\n",
              "      <th>No.</th>\n",
              "      <th>Time</th>\n",
              "      <th>Source</th>\n",
              "      <th>Destination</th>\n",
              "      <th>Protocol</th>\n",
              "      <th>Length</th>\n",
              "      <th>Calculated window size</th>\n",
              "      <th>Next Sequence Number</th>\n",
              "      <th>Sequence Number</th>\n",
              "      <th>Window size scaling factor</th>\n",
              "      <th>Type</th>\n",
              "    </tr>\n",
              "  </thead>\n",
              "  <tbody>\n",
              "    <tr>\n",
              "      <th>1</th>\n",
              "      <td>2</td>\n",
              "      <td>0.003273</td>\n",
              "      <td>51.83.238.220</td>\n",
              "      <td>192.168.43.224</td>\n",
              "      <td>TCP</td>\n",
              "      <td>54</td>\n",
              "      <td>501.0</td>\n",
              "      <td>1.0</td>\n",
              "      <td>1.0</td>\n",
              "      <td>-1.0</td>\n",
              "      <td>IPv4</td>\n",
              "    </tr>\n",
              "    <tr>\n",
              "      <th>2</th>\n",
              "      <td>3</td>\n",
              "      <td>0.003310</td>\n",
              "      <td>192.168.43.224</td>\n",
              "      <td>51.83.238.220</td>\n",
              "      <td>TCP</td>\n",
              "      <td>54</td>\n",
              "      <td>255.0</td>\n",
              "      <td>1.0</td>\n",
              "      <td>1.0</td>\n",
              "      <td>-1.0</td>\n",
              "      <td>IPv4</td>\n",
              "    </tr>\n",
              "    <tr>\n",
              "      <th>4</th>\n",
              "      <td>5</td>\n",
              "      <td>0.104412</td>\n",
              "      <td>192.168.43.224</td>\n",
              "      <td>139.59.27.79</td>\n",
              "      <td>TCP</td>\n",
              "      <td>54</td>\n",
              "      <td>65535.0</td>\n",
              "      <td>1.0</td>\n",
              "      <td>1.0</td>\n",
              "      <td>-2.0</td>\n",
              "      <td>IPv4</td>\n",
              "    </tr>\n",
              "    <tr>\n",
              "      <th>5</th>\n",
              "      <td>6</td>\n",
              "      <td>0.104588</td>\n",
              "      <td>192.168.43.224</td>\n",
              "      <td>139.59.27.79</td>\n",
              "      <td>HTTP</td>\n",
              "      <td>143</td>\n",
              "      <td>65535.0</td>\n",
              "      <td>90.0</td>\n",
              "      <td>1.0</td>\n",
              "      <td>-2.0</td>\n",
              "      <td>IPv4</td>\n",
              "    </tr>\n",
              "    <tr>\n",
              "      <th>6</th>\n",
              "      <td>7</td>\n",
              "      <td>0.419007</td>\n",
              "      <td>192.168.43.224</td>\n",
              "      <td>139.59.27.79</td>\n",
              "      <td>TCP</td>\n",
              "      <td>143</td>\n",
              "      <td>65535.0</td>\n",
              "      <td>90.0</td>\n",
              "      <td>1.0</td>\n",
              "      <td>-2.0</td>\n",
              "      <td>IPv4</td>\n",
              "    </tr>\n",
              "    <tr>\n",
              "      <th>...</th>\n",
              "      <td>...</td>\n",
              "      <td>...</td>\n",
              "      <td>...</td>\n",
              "      <td>...</td>\n",
              "      <td>...</td>\n",
              "      <td>...</td>\n",
              "      <td>...</td>\n",
              "      <td>...</td>\n",
              "      <td>...</td>\n",
              "      <td>...</td>\n",
              "      <td>...</td>\n",
              "    </tr>\n",
              "    <tr>\n",
              "      <th>44315</th>\n",
              "      <td>44316</td>\n",
              "      <td>2312.768311</td>\n",
              "      <td>2620:1ec:42::132</td>\n",
              "      <td>2401:4900:3b27:bf78:b885:bf9e:2870:91ab</td>\n",
              "      <td>TCP</td>\n",
              "      <td>86</td>\n",
              "      <td>524288.0</td>\n",
              "      <td>15564.0</td>\n",
              "      <td>15564.0</td>\n",
              "      <td>256.0</td>\n",
              "      <td>IPv6</td>\n",
              "    </tr>\n",
              "    <tr>\n",
              "      <th>44316</th>\n",
              "      <td>44317</td>\n",
              "      <td>2314.981869</td>\n",
              "      <td>2401:4900:3b27:bf78:b885:bf9e:2870:91ab</td>\n",
              "      <td>2404:6800:4003:c00::bc</td>\n",
              "      <td>TCP</td>\n",
              "      <td>75</td>\n",
              "      <td>65024.0</td>\n",
              "      <td>785.0</td>\n",
              "      <td>784.0</td>\n",
              "      <td>256.0</td>\n",
              "      <td>IPv6</td>\n",
              "    </tr>\n",
              "    <tr>\n",
              "      <th>44317</th>\n",
              "      <td>44318</td>\n",
              "      <td>2315.180729</td>\n",
              "      <td>2404:6800:4003:c00::bc</td>\n",
              "      <td>2401:4900:3b27:bf78:b885:bf9e:2870:91ab</td>\n",
              "      <td>TCP</td>\n",
              "      <td>86</td>\n",
              "      <td>67840.0</td>\n",
              "      <td>4538.0</td>\n",
              "      <td>4538.0</td>\n",
              "      <td>256.0</td>\n",
              "      <td>IPv6</td>\n",
              "    </tr>\n",
              "    <tr>\n",
              "      <th>44318</th>\n",
              "      <td>44319</td>\n",
              "      <td>2320.300251</td>\n",
              "      <td>51.83.238.220</td>\n",
              "      <td>192.168.43.224</td>\n",
              "      <td>TCP</td>\n",
              "      <td>54</td>\n",
              "      <td>501.0</td>\n",
              "      <td>1.0</td>\n",
              "      <td>1.0</td>\n",
              "      <td>-1.0</td>\n",
              "      <td>IPv4</td>\n",
              "    </tr>\n",
              "    <tr>\n",
              "      <th>44319</th>\n",
              "      <td>44320</td>\n",
              "      <td>2320.300295</td>\n",
              "      <td>192.168.43.224</td>\n",
              "      <td>51.83.238.220</td>\n",
              "      <td>TCP</td>\n",
              "      <td>54</td>\n",
              "      <td>255.0</td>\n",
              "      <td>1.0</td>\n",
              "      <td>1.0</td>\n",
              "      <td>-1.0</td>\n",
              "      <td>IPv4</td>\n",
              "    </tr>\n",
              "  </tbody>\n",
              "</table>\n",
              "<p>42788 rows × 11 columns</p>\n",
              "</div>"
            ],
            "text/plain": [
              "         No.         Time  ... Window size scaling factor  Type\n",
              "1          2     0.003273  ...                       -1.0  IPv4\n",
              "2          3     0.003310  ...                       -1.0  IPv4\n",
              "4          5     0.104412  ...                       -2.0  IPv4\n",
              "5          6     0.104588  ...                       -2.0  IPv4\n",
              "6          7     0.419007  ...                       -2.0  IPv4\n",
              "...      ...          ...  ...                        ...   ...\n",
              "44315  44316  2312.768311  ...                      256.0  IPv6\n",
              "44316  44317  2314.981869  ...                      256.0  IPv6\n",
              "44317  44318  2315.180729  ...                      256.0  IPv6\n",
              "44318  44319  2320.300251  ...                       -1.0  IPv4\n",
              "44319  44320  2320.300295  ...                       -1.0  IPv4\n",
              "\n",
              "[42788 rows x 11 columns]"
            ]
          },
          "metadata": {
            "tags": []
          },
          "execution_count": 34
        }
      ]
    },
    {
      "cell_type": "code",
      "metadata": {
        "id": "F34BnrklYoh7"
      },
      "source": [
        "data_int = data[16000:20000]"
      ],
      "execution_count": 122,
      "outputs": []
    },
    {
      "cell_type": "code",
      "metadata": {
        "colab": {
          "base_uri": "https://localhost:8080/",
          "height": 215
        },
        "id": "jJQ2IKtIZXb3",
        "outputId": "c2754000-8ad0-4615-86dd-bd2b4357a798"
      },
      "source": [
        "data_int.head(5)"
      ],
      "execution_count": 115,
      "outputs": [
        {
          "output_type": "execute_result",
          "data": {
            "text/html": [
              "<div>\n",
              "<style scoped>\n",
              "    .dataframe tbody tr th:only-of-type {\n",
              "        vertical-align: middle;\n",
              "    }\n",
              "\n",
              "    .dataframe tbody tr th {\n",
              "        vertical-align: top;\n",
              "    }\n",
              "\n",
              "    .dataframe thead th {\n",
              "        text-align: right;\n",
              "    }\n",
              "</style>\n",
              "<table border=\"1\" class=\"dataframe\">\n",
              "  <thead>\n",
              "    <tr style=\"text-align: right;\">\n",
              "      <th></th>\n",
              "      <th>No.</th>\n",
              "      <th>Time</th>\n",
              "      <th>Source</th>\n",
              "      <th>Destination</th>\n",
              "      <th>Protocol</th>\n",
              "      <th>Length</th>\n",
              "      <th>Calculated window size</th>\n",
              "      <th>Next Sequence Number</th>\n",
              "      <th>Sequence Number</th>\n",
              "      <th>Window size scaling factor</th>\n",
              "      <th>Type</th>\n",
              "    </tr>\n",
              "  </thead>\n",
              "  <tbody>\n",
              "    <tr>\n",
              "      <th>16000</th>\n",
              "      <td>16001</td>\n",
              "      <td>154.967387</td>\n",
              "      <td>139.59.27.79</td>\n",
              "      <td>192.168.43.224</td>\n",
              "      <td>TCP</td>\n",
              "      <td>7054</td>\n",
              "      <td>29312.0</td>\n",
              "      <td>16907642.0</td>\n",
              "      <td>16900642.0</td>\n",
              "      <td>128.0</td>\n",
              "      <td>IPv4</td>\n",
              "    </tr>\n",
              "    <tr>\n",
              "      <th>16001</th>\n",
              "      <td>16002</td>\n",
              "      <td>154.967484</td>\n",
              "      <td>192.168.43.224</td>\n",
              "      <td>139.59.27.79</td>\n",
              "      <td>TCP</td>\n",
              "      <td>54</td>\n",
              "      <td>1049856.0</td>\n",
              "      <td>829.0</td>\n",
              "      <td>829.0</td>\n",
              "      <td>256.0</td>\n",
              "      <td>IPv4</td>\n",
              "    </tr>\n",
              "    <tr>\n",
              "      <th>16002</th>\n",
              "      <td>16003</td>\n",
              "      <td>154.967735</td>\n",
              "      <td>139.59.27.79</td>\n",
              "      <td>192.168.43.224</td>\n",
              "      <td>TCP</td>\n",
              "      <td>1454</td>\n",
              "      <td>29312.0</td>\n",
              "      <td>16909042.0</td>\n",
              "      <td>16907642.0</td>\n",
              "      <td>128.0</td>\n",
              "      <td>IPv4</td>\n",
              "    </tr>\n",
              "    <tr>\n",
              "      <th>16003</th>\n",
              "      <td>16004</td>\n",
              "      <td>154.967825</td>\n",
              "      <td>192.168.43.224</td>\n",
              "      <td>139.59.27.79</td>\n",
              "      <td>TCP</td>\n",
              "      <td>54</td>\n",
              "      <td>1049856.0</td>\n",
              "      <td>829.0</td>\n",
              "      <td>829.0</td>\n",
              "      <td>256.0</td>\n",
              "      <td>IPv4</td>\n",
              "    </tr>\n",
              "    <tr>\n",
              "      <th>16004</th>\n",
              "      <td>16005</td>\n",
              "      <td>154.968085</td>\n",
              "      <td>139.59.27.79</td>\n",
              "      <td>192.168.43.224</td>\n",
              "      <td>TCP</td>\n",
              "      <td>1454</td>\n",
              "      <td>29312.0</td>\n",
              "      <td>16910442.0</td>\n",
              "      <td>16909042.0</td>\n",
              "      <td>128.0</td>\n",
              "      <td>IPv4</td>\n",
              "    </tr>\n",
              "  </tbody>\n",
              "</table>\n",
              "</div>"
            ],
            "text/plain": [
              "         No.        Time  ... Window size scaling factor  Type\n",
              "16000  16001  154.967387  ...                      128.0  IPv4\n",
              "16001  16002  154.967484  ...                      256.0  IPv4\n",
              "16002  16003  154.967735  ...                      128.0  IPv4\n",
              "16003  16004  154.967825  ...                      256.0  IPv4\n",
              "16004  16005  154.968085  ...                      128.0  IPv4\n",
              "\n",
              "[5 rows x 11 columns]"
            ]
          },
          "metadata": {
            "tags": []
          },
          "execution_count": 115
        }
      ]
    },
    {
      "cell_type": "code",
      "metadata": {
        "colab": {
          "base_uri": "https://localhost:8080/",
          "height": 270
        },
        "id": "gz1xH1W2ZcP7",
        "outputId": "3bd07367-e8d2-4919-ee8b-c86ddc2d9c14"
      },
      "source": [
        "data_int.tail(5)"
      ],
      "execution_count": 116,
      "outputs": [
        {
          "output_type": "execute_result",
          "data": {
            "text/html": [
              "<div>\n",
              "<style scoped>\n",
              "    .dataframe tbody tr th:only-of-type {\n",
              "        vertical-align: middle;\n",
              "    }\n",
              "\n",
              "    .dataframe tbody tr th {\n",
              "        vertical-align: top;\n",
              "    }\n",
              "\n",
              "    .dataframe thead th {\n",
              "        text-align: right;\n",
              "    }\n",
              "</style>\n",
              "<table border=\"1\" class=\"dataframe\">\n",
              "  <thead>\n",
              "    <tr style=\"text-align: right;\">\n",
              "      <th></th>\n",
              "      <th>No.</th>\n",
              "      <th>Time</th>\n",
              "      <th>Source</th>\n",
              "      <th>Destination</th>\n",
              "      <th>Protocol</th>\n",
              "      <th>Length</th>\n",
              "      <th>Calculated window size</th>\n",
              "      <th>Next Sequence Number</th>\n",
              "      <th>Sequence Number</th>\n",
              "      <th>Window size scaling factor</th>\n",
              "      <th>Type</th>\n",
              "    </tr>\n",
              "  </thead>\n",
              "  <tbody>\n",
              "    <tr>\n",
              "      <th>21995</th>\n",
              "      <td>21996</td>\n",
              "      <td>503.635440</td>\n",
              "      <td>2404:6800:4009:801::2001</td>\n",
              "      <td>2401:4900:3b27:bf78:b885:bf9e:2870:91ab</td>\n",
              "      <td>TLSv1.3</td>\n",
              "      <td>1294</td>\n",
              "      <td>69376.0</td>\n",
              "      <td>270847.0</td>\n",
              "      <td>269627.0</td>\n",
              "      <td>256.0</td>\n",
              "      <td>IPv6</td>\n",
              "    </tr>\n",
              "    <tr>\n",
              "      <th>21996</th>\n",
              "      <td>21997</td>\n",
              "      <td>503.635486</td>\n",
              "      <td>2401:4900:3b27:bf78:b885:bf9e:2870:91ab</td>\n",
              "      <td>2404:6800:4009:801::2001</td>\n",
              "      <td>TCP</td>\n",
              "      <td>74</td>\n",
              "      <td>65792.0</td>\n",
              "      <td>1602.0</td>\n",
              "      <td>1602.0</td>\n",
              "      <td>256.0</td>\n",
              "      <td>IPv6</td>\n",
              "    </tr>\n",
              "    <tr>\n",
              "      <th>21997</th>\n",
              "      <td>21998</td>\n",
              "      <td>503.647112</td>\n",
              "      <td>2404:6800:4009:801::2001</td>\n",
              "      <td>2401:4900:3b27:bf78:b885:bf9e:2870:91ab</td>\n",
              "      <td>TLSv1.3</td>\n",
              "      <td>7394</td>\n",
              "      <td>69376.0</td>\n",
              "      <td>278167.0</td>\n",
              "      <td>270847.0</td>\n",
              "      <td>256.0</td>\n",
              "      <td>IPv6</td>\n",
              "    </tr>\n",
              "    <tr>\n",
              "      <th>21998</th>\n",
              "      <td>21999</td>\n",
              "      <td>503.647164</td>\n",
              "      <td>2401:4900:3b27:bf78:b885:bf9e:2870:91ab</td>\n",
              "      <td>2404:6800:4009:801::2001</td>\n",
              "      <td>TCP</td>\n",
              "      <td>74</td>\n",
              "      <td>65792.0</td>\n",
              "      <td>1602.0</td>\n",
              "      <td>1602.0</td>\n",
              "      <td>256.0</td>\n",
              "      <td>IPv6</td>\n",
              "    </tr>\n",
              "    <tr>\n",
              "      <th>21999</th>\n",
              "      <td>22000</td>\n",
              "      <td>503.647296</td>\n",
              "      <td>2404:6800:4009:801::2001</td>\n",
              "      <td>2401:4900:3b27:bf78:b885:bf9e:2870:91ab</td>\n",
              "      <td>TLSv1.3</td>\n",
              "      <td>1294</td>\n",
              "      <td>69376.0</td>\n",
              "      <td>279387.0</td>\n",
              "      <td>278167.0</td>\n",
              "      <td>256.0</td>\n",
              "      <td>IPv6</td>\n",
              "    </tr>\n",
              "  </tbody>\n",
              "</table>\n",
              "</div>"
            ],
            "text/plain": [
              "         No.        Time  ... Window size scaling factor  Type\n",
              "21995  21996  503.635440  ...                      256.0  IPv6\n",
              "21996  21997  503.635486  ...                      256.0  IPv6\n",
              "21997  21998  503.647112  ...                      256.0  IPv6\n",
              "21998  21999  503.647164  ...                      256.0  IPv6\n",
              "21999  22000  503.647296  ...                      256.0  IPv6\n",
              "\n",
              "[5 rows x 11 columns]"
            ]
          },
          "metadata": {
            "tags": []
          },
          "execution_count": 116
        }
      ]
    },
    {
      "cell_type": "markdown",
      "metadata": {
        "id": "Z7_EWl2A2cxN"
      },
      "source": [
        "#NOW_WE_HAD_FILTER_THE_DATA_BY_REMOVING_ALL_THE_NULL_VALUES_FROM_DATASET"
      ]
    },
    {
      "cell_type": "code",
      "metadata": {
        "colab": {
          "base_uri": "https://localhost:8080/",
          "height": 215
        },
        "id": "wurUJU4U2Cg6",
        "outputId": "17171602-e2a4-4309-b431-5ec5bced0493"
      },
      "source": [
        "data.head(5)"
      ],
      "execution_count": 35,
      "outputs": [
        {
          "output_type": "execute_result",
          "data": {
            "text/html": [
              "<div>\n",
              "<style scoped>\n",
              "    .dataframe tbody tr th:only-of-type {\n",
              "        vertical-align: middle;\n",
              "    }\n",
              "\n",
              "    .dataframe tbody tr th {\n",
              "        vertical-align: top;\n",
              "    }\n",
              "\n",
              "    .dataframe thead th {\n",
              "        text-align: right;\n",
              "    }\n",
              "</style>\n",
              "<table border=\"1\" class=\"dataframe\">\n",
              "  <thead>\n",
              "    <tr style=\"text-align: right;\">\n",
              "      <th></th>\n",
              "      <th>No.</th>\n",
              "      <th>Time</th>\n",
              "      <th>Source</th>\n",
              "      <th>Destination</th>\n",
              "      <th>Protocol</th>\n",
              "      <th>Length</th>\n",
              "      <th>Calculated window size</th>\n",
              "      <th>Next Sequence Number</th>\n",
              "      <th>Sequence Number</th>\n",
              "      <th>Window size scaling factor</th>\n",
              "      <th>Type</th>\n",
              "    </tr>\n",
              "  </thead>\n",
              "  <tbody>\n",
              "    <tr>\n",
              "      <th>0</th>\n",
              "      <td>1</td>\n",
              "      <td>0.000000</td>\n",
              "      <td>192.168.43.224</td>\n",
              "      <td>139.59.27.79</td>\n",
              "      <td>TCP</td>\n",
              "      <td>66</td>\n",
              "      <td>65535.0</td>\n",
              "      <td>1.0</td>\n",
              "      <td>0.0</td>\n",
              "      <td>NaN</td>\n",
              "      <td>IPv4</td>\n",
              "    </tr>\n",
              "    <tr>\n",
              "      <th>1</th>\n",
              "      <td>2</td>\n",
              "      <td>0.003273</td>\n",
              "      <td>51.83.238.220</td>\n",
              "      <td>192.168.43.224</td>\n",
              "      <td>TCP</td>\n",
              "      <td>54</td>\n",
              "      <td>501.0</td>\n",
              "      <td>1.0</td>\n",
              "      <td>1.0</td>\n",
              "      <td>-1.0</td>\n",
              "      <td>IPv4</td>\n",
              "    </tr>\n",
              "    <tr>\n",
              "      <th>2</th>\n",
              "      <td>3</td>\n",
              "      <td>0.003310</td>\n",
              "      <td>192.168.43.224</td>\n",
              "      <td>51.83.238.220</td>\n",
              "      <td>TCP</td>\n",
              "      <td>54</td>\n",
              "      <td>255.0</td>\n",
              "      <td>1.0</td>\n",
              "      <td>1.0</td>\n",
              "      <td>-1.0</td>\n",
              "      <td>IPv4</td>\n",
              "    </tr>\n",
              "    <tr>\n",
              "      <th>3</th>\n",
              "      <td>4</td>\n",
              "      <td>0.104315</td>\n",
              "      <td>139.59.27.79</td>\n",
              "      <td>192.168.43.224</td>\n",
              "      <td>TCP</td>\n",
              "      <td>58</td>\n",
              "      <td>29200.0</td>\n",
              "      <td>1.0</td>\n",
              "      <td>0.0</td>\n",
              "      <td>NaN</td>\n",
              "      <td>IPv4</td>\n",
              "    </tr>\n",
              "    <tr>\n",
              "      <th>4</th>\n",
              "      <td>5</td>\n",
              "      <td>0.104412</td>\n",
              "      <td>192.168.43.224</td>\n",
              "      <td>139.59.27.79</td>\n",
              "      <td>TCP</td>\n",
              "      <td>54</td>\n",
              "      <td>65535.0</td>\n",
              "      <td>1.0</td>\n",
              "      <td>1.0</td>\n",
              "      <td>-2.0</td>\n",
              "      <td>IPv4</td>\n",
              "    </tr>\n",
              "  </tbody>\n",
              "</table>\n",
              "</div>"
            ],
            "text/plain": [
              "   No.      Time  ... Window size scaling factor  Type\n",
              "0    1  0.000000  ...                        NaN  IPv4\n",
              "1    2  0.003273  ...                       -1.0  IPv4\n",
              "2    3  0.003310  ...                       -1.0  IPv4\n",
              "3    4  0.104315  ...                        NaN  IPv4\n",
              "4    5  0.104412  ...                       -2.0  IPv4\n",
              "\n",
              "[5 rows x 11 columns]"
            ]
          },
          "metadata": {
            "tags": []
          },
          "execution_count": 35
        }
      ]
    },
    {
      "cell_type": "markdown",
      "metadata": {
        "id": "Q8SchjR_Tab4"
      },
      "source": [
        "##DATA VISUALIZATION OF ORIGINAL DATA"
      ]
    },
    {
      "cell_type": "code",
      "metadata": {
        "id": "LjiDSnuPTaCD"
      },
      "source": [
        "import seaborn as sns"
      ],
      "execution_count": 53,
      "outputs": []
    },
    {
      "cell_type": "code",
      "metadata": {
        "id": "o5_TVwZXaijr"
      },
      "source": [
        "!pip install bar_chart_race"
      ],
      "execution_count": null,
      "outputs": []
    },
    {
      "cell_type": "code",
      "metadata": {
        "id": "xwNssAJtacIP"
      },
      "source": [
        "import bar_chart_race as bcr"
      ],
      "execution_count": 56,
      "outputs": []
    },
    {
      "cell_type": "code",
      "metadata": {
        "id": "yZX8ZgX6r9GT"
      },
      "source": [
        "import matplotlib.pyplot as plt"
      ],
      "execution_count": 66,
      "outputs": []
    },
    {
      "cell_type": "code",
      "metadata": {
        "id": "m4TamTm9amMh"
      },
      "source": [
        "import numpy as np"
      ],
      "execution_count": 57,
      "outputs": []
    },
    {
      "cell_type": "code",
      "metadata": {
        "colab": {
          "base_uri": "https://localhost:8080/",
          "height": 308
        },
        "id": "2An8XYd3arfZ",
        "outputId": "0b2196db-1ea4-4ddb-8a9c-597d174f5e83"
      },
      "source": [
        "sns.countplot(x=data['Type']);\n",
        "plt.xticks(rotation=90)"
      ],
      "execution_count": 58,
      "outputs": [
        {
          "output_type": "execute_result",
          "data": {
            "text/plain": [
              "(array([0, 1, 2]), <a list of 3 Text major ticklabel objects>)"
            ]
          },
          "metadata": {
            "tags": []
          },
          "execution_count": 58
        },
        {
          "output_type": "display_data",
          "data": {
            "image/png": "[encoded data removed]",
            "text/plain": [
              "<Figure size 432x288 with 1 Axes>"
            ]
          },
          "metadata": {
            "tags": [],
            "needs_background": "light"
          }
        }
      ]
    },
    {
      "cell_type": "code",
      "metadata": {
        "id": "I7ARwqo-yQLN"
      },
      "source": [
        "d_type = data.groupby('Type')['Type'].count()"
      ],
      "execution_count": 80,
      "outputs": []
    },
    {
      "cell_type": "code",
      "metadata": {
        "colab": {
          "base_uri": "https://localhost:8080/"
        },
        "id": "a0-5W9D8yVuP",
        "outputId": "5b9732b0-58c4-432b-f0f9-25873bd7fb9e"
      },
      "source": [
        "d_type"
      ],
      "execution_count": 81,
      "outputs": [
        {
          "output_type": "execute_result",
          "data": {
            "text/plain": [
              "Type\n",
              "ARP       134\n",
              "IPv4    19442\n",
              "IPv6    24744\n",
              "Name: Type, dtype: int64"
            ]
          },
          "metadata": {
            "tags": []
          },
          "execution_count": 81
        }
      ]
    },
    {
      "cell_type": "code",
      "metadata": {
        "colab": {
          "base_uri": "https://localhost:8080/",
          "height": 400
        },
        "id": "OlKa1dIJxf04",
        "outputId": "7aa054ff-3103-4aaf-f901-edb74b2e82c3"
      },
      "source": [
        "plt.pie(d_type, labels=d_type.index, autopct=\"%.2f%%\", explode=[1, 1, 1], startangle=180, shadow=True);\n",
        "plt.show()"
      ],
      "execution_count": 84,
      "outputs": [
        {
          "output_type": "display_data",
          "data": {
            "image/png": "[encoded data removed]",
            "text/plain": [
              "<Figure size 432x288 with 1 Axes>"
            ]
          },
          "metadata": {
            "tags": []
          }
        }
      ]
    },
    {
      "cell_type": "code",
      "metadata": {
        "colab": {
          "base_uri": "https://localhost:8080/",
          "height": 355
        },
        "id": "hCbfxHvbbVIw",
        "outputId": "d05942d6-93de-4757-d8ff-8ed4194e2085"
      },
      "source": [
        "sns.countplot(x=data['Protocol']);\n",
        "plt.xticks(rotation=90)"
      ],
      "execution_count": 60,
      "outputs": [
        {
          "output_type": "execute_result",
          "data": {
            "text/plain": [
              "(array([ 0,  1,  2,  3,  4,  5,  6,  7,  8,  9, 10, 11, 12, 13, 14]),\n",
              " <a list of 15 Text major ticklabel objects>)"
            ]
          },
          "metadata": {
            "tags": []
          },
          "execution_count": 60
        },
        {
          "output_type": "display_data",
          "data": {
            "image/png": "[encoded data removed]",
            "text/plain": [
              "<Figure size 432x288 with 1 Axes>"
            ]
          },
          "metadata": {
            "tags": [],
            "needs_background": "light"
          }
        }
      ]
    },
    {
      "cell_type": "code",
      "metadata": {
        "id": "qf9Aar9czpSJ"
      },
      "source": [
        "d_protocol = data.groupby('Protocol')['Protocol'].count()"
      ],
      "execution_count": 85,
      "outputs": []
    },
    {
      "cell_type": "code",
      "metadata": {
        "colab": {
          "base_uri": "https://localhost:8080/"
        },
        "id": "RUMP94hX0KJ3",
        "outputId": "a74c95ae-e0b2-4e32-cba1-32b6c4de8da0"
      },
      "source": [
        "d_protocol"
      ],
      "execution_count": 86,
      "outputs": [
        {
          "output_type": "execute_result",
          "data": {
            "text/plain": [
              "Protocol\n",
              "ARP           134\n",
              "DHCP            3\n",
              "DNS           495\n",
              "HTTP           58\n",
              "HTTP/XML        1\n",
              "ICMPv6         96\n",
              "IGMPv3          5\n",
              "LLMNR          34\n",
              "MDNS           74\n",
              "NBNS           12\n",
              "SSDP          198\n",
              "SSLv2           4\n",
              "TCP         35372\n",
              "TLSv1.2       928\n",
              "TLSv1.3      6906\n",
              "Name: Protocol, dtype: int64"
            ]
          },
          "metadata": {
            "tags": []
          },
          "execution_count": 86
        }
      ]
    },
    {
      "cell_type": "code",
      "metadata": {
        "colab": {
          "base_uri": "https://localhost:8080/",
          "height": 273
        },
        "id": "BHw3va-S0NZb",
        "outputId": "88d2d670-8de2-4bf8-b6ff-d02ddf9db916"
      },
      "source": [
        "plt.pie(d_protocol, labels=d_protocol.index, autopct=\"%.2f%%\", explode=[0, 0, 0, 0, 0, 0, 0, 0, 0, 0, 0, 0, 1, 0, 1], startangle=180, shadow=True);\n",
        "plt.show()"
      ],
      "execution_count": 87,
      "outputs": [
        {
          "output_type": "display_data",
          "data": {
            "image/png": "[encoded data removed]",
            "text/plain": [
              "<Figure size 432x288 with 1 Axes>"
            ]
          },
          "metadata": {
            "tags": []
          }
        }
      ]
    },
    {
      "cell_type": "code",
      "metadata": {
        "colab": {
          "base_uri": "https://localhost:8080/",
          "height": 322
        },
        "id": "ZiGTOyD6pWzT",
        "outputId": "12969f35-d60b-4a8a-8754-aca12c4683bf"
      },
      "source": [
        "sns.countplot(x=data['Window size scaling factor']);\n",
        "plt.xticks(rotation=90)"
      ],
      "execution_count": 65,
      "outputs": [
        {
          "output_type": "execute_result",
          "data": {
            "text/plain": [
              "(array([0, 1, 2, 3, 4, 5, 6]), <a list of 7 Text major ticklabel objects>)"
            ]
          },
          "metadata": {
            "tags": []
          },
          "execution_count": 65
        },
        {
          "output_type": "display_data",
          "data": {
            "image/png": "[encoded data removed]",
            "text/plain": [
              "<Figure size 432x288 with 1 Axes>"
            ]
          },
          "metadata": {
            "tags": [],
            "needs_background": "light"
          }
        }
      ]
    },
    {
      "cell_type": "code",
      "metadata": {
        "colab": {
          "base_uri": "https://localhost:8080/",
          "height": 308
        },
        "id": "Rpyu1b_lvja9",
        "outputId": "bacf9d81-d627-4c7a-e95f-a170f69aa31a"
      },
      "source": [
        "sns.kdeplot(data['Calculated window size'])"
      ],
      "execution_count": 73,
      "outputs": [
        {
          "output_type": "execute_result",
          "data": {
            "text/plain": [
              "<matplotlib.axes._subplots.AxesSubplot at 0x7fedc32ebb50>"
            ]
          },
          "metadata": {
            "tags": []
          },
          "execution_count": 73
        },
        {
          "output_type": "display_data",
          "data": {
            "image/png": "[encoded data removed]",
            "text/plain": [
              "<Figure size 432x288 with 1 Axes>"
            ]
          },
          "metadata": {
            "tags": [],
            "needs_background": "light"
          }
        }
      ]
    },
    {
      "cell_type": "markdown",
      "metadata": {
        "id": "mrtPjcBo33iz"
      },
      "source": [
        "###SINCE THERE ARE MANY MORE DIFFERENT VALUES OF CALCULATED SIZE WINDOW SO WE ARE TAKING MAXIMUM VALUES OF SIZE WINDOW WITH RESPECT TO TIME"
      ]
    },
    {
      "cell_type": "code",
      "metadata": {
        "id": "Yy3EJNxYwxsx"
      },
      "source": [
        "d_sort_cws = data.sort_values([\"Calculated window size\"], axis=0, ascending=False)\n",
        "                 "
      ],
      "execution_count": 94,
      "outputs": []
    },
    {
      "cell_type": "code",
      "metadata": {
        "colab": {
          "base_uri": "https://localhost:8080/",
          "height": 420
        },
        "id": "LsKOmZiv3ck8",
        "outputId": "d4201540-a974-4192-8f47-ba5a89075bb9"
      },
      "source": [
        "d_sort_cws.head(10)"
      ],
      "execution_count": 95,
      "outputs": [
        {
          "output_type": "execute_result",
          "data": {
            "text/html": [
              "<div>\n",
              "<style scoped>\n",
              "    .dataframe tbody tr th:only-of-type {\n",
              "        vertical-align: middle;\n",
              "    }\n",
              "\n",
              "    .dataframe tbody tr th {\n",
              "        vertical-align: top;\n",
              "    }\n",
              "\n",
              "    .dataframe thead th {\n",
              "        text-align: right;\n",
              "    }\n",
              "</style>\n",
              "<table border=\"1\" class=\"dataframe\">\n",
              "  <thead>\n",
              "    <tr style=\"text-align: right;\">\n",
              "      <th></th>\n",
              "      <th>No.</th>\n",
              "      <th>Time</th>\n",
              "      <th>Source</th>\n",
              "      <th>Destination</th>\n",
              "      <th>Protocol</th>\n",
              "      <th>Length</th>\n",
              "      <th>Calculated window size</th>\n",
              "      <th>Next Sequence Number</th>\n",
              "      <th>Sequence Number</th>\n",
              "      <th>Window size scaling factor</th>\n",
              "      <th>Type</th>\n",
              "    </tr>\n",
              "  </thead>\n",
              "  <tbody>\n",
              "    <tr>\n",
              "      <th>22351</th>\n",
              "      <td>22352</td>\n",
              "      <td>504.088903</td>\n",
              "      <td>2401:4900:3b27:bf78:b885:bf9e:2870:91ab</td>\n",
              "      <td>2404:6800:4009:801::2001</td>\n",
              "      <td>TCP</td>\n",
              "      <td>74</td>\n",
              "      <td>2144768.0</td>\n",
              "      <td>1602.0</td>\n",
              "      <td>1602.0</td>\n",
              "      <td>256.0</td>\n",
              "      <td>IPv6</td>\n",
              "    </tr>\n",
              "    <tr>\n",
              "      <th>22399</th>\n",
              "      <td>22400</td>\n",
              "      <td>504.142613</td>\n",
              "      <td>2401:4900:3b27:bf78:b885:bf9e:2870:91ab</td>\n",
              "      <td>2404:6800:4009:801::2001</td>\n",
              "      <td>TCP</td>\n",
              "      <td>74</td>\n",
              "      <td>2144768.0</td>\n",
              "      <td>1602.0</td>\n",
              "      <td>1602.0</td>\n",
              "      <td>256.0</td>\n",
              "      <td>IPv6</td>\n",
              "    </tr>\n",
              "    <tr>\n",
              "      <th>22393</th>\n",
              "      <td>22394</td>\n",
              "      <td>504.131235</td>\n",
              "      <td>2401:4900:3b27:bf78:b885:bf9e:2870:91ab</td>\n",
              "      <td>2404:6800:4009:801::2001</td>\n",
              "      <td>TCP</td>\n",
              "      <td>74</td>\n",
              "      <td>2144768.0</td>\n",
              "      <td>1602.0</td>\n",
              "      <td>1602.0</td>\n",
              "      <td>256.0</td>\n",
              "      <td>IPv6</td>\n",
              "    </tr>\n",
              "    <tr>\n",
              "      <th>22389</th>\n",
              "      <td>22390</td>\n",
              "      <td>504.129785</td>\n",
              "      <td>2401:4900:3b27:bf78:b885:bf9e:2870:91ab</td>\n",
              "      <td>2404:6800:4009:801::2001</td>\n",
              "      <td>TCP</td>\n",
              "      <td>74</td>\n",
              "      <td>2144768.0</td>\n",
              "      <td>1602.0</td>\n",
              "      <td>1602.0</td>\n",
              "      <td>256.0</td>\n",
              "      <td>IPv6</td>\n",
              "    </tr>\n",
              "    <tr>\n",
              "      <th>22385</th>\n",
              "      <td>22386</td>\n",
              "      <td>504.124070</td>\n",
              "      <td>2401:4900:3b27:bf78:b885:bf9e:2870:91ab</td>\n",
              "      <td>2404:6800:4009:801::2001</td>\n",
              "      <td>TCP</td>\n",
              "      <td>74</td>\n",
              "      <td>2144768.0</td>\n",
              "      <td>1602.0</td>\n",
              "      <td>1602.0</td>\n",
              "      <td>256.0</td>\n",
              "      <td>IPv6</td>\n",
              "    </tr>\n",
              "    <tr>\n",
              "      <th>22383</th>\n",
              "      <td>22384</td>\n",
              "      <td>504.118474</td>\n",
              "      <td>2401:4900:3b27:bf78:b885:bf9e:2870:91ab</td>\n",
              "      <td>2404:6800:4009:801::2001</td>\n",
              "      <td>TCP</td>\n",
              "      <td>74</td>\n",
              "      <td>2144768.0</td>\n",
              "      <td>1602.0</td>\n",
              "      <td>1602.0</td>\n",
              "      <td>256.0</td>\n",
              "      <td>IPv6</td>\n",
              "    </tr>\n",
              "    <tr>\n",
              "      <th>22379</th>\n",
              "      <td>22380</td>\n",
              "      <td>504.117828</td>\n",
              "      <td>2401:4900:3b27:bf78:b885:bf9e:2870:91ab</td>\n",
              "      <td>2404:6800:4009:801::2001</td>\n",
              "      <td>TCP</td>\n",
              "      <td>74</td>\n",
              "      <td>2144768.0</td>\n",
              "      <td>1602.0</td>\n",
              "      <td>1602.0</td>\n",
              "      <td>256.0</td>\n",
              "      <td>IPv6</td>\n",
              "    </tr>\n",
              "    <tr>\n",
              "      <th>22377</th>\n",
              "      <td>22378</td>\n",
              "      <td>504.112936</td>\n",
              "      <td>2401:4900:3b27:bf78:b885:bf9e:2870:91ab</td>\n",
              "      <td>2404:6800:4009:801::2001</td>\n",
              "      <td>TCP</td>\n",
              "      <td>74</td>\n",
              "      <td>2144768.0</td>\n",
              "      <td>1602.0</td>\n",
              "      <td>1602.0</td>\n",
              "      <td>256.0</td>\n",
              "      <td>IPv6</td>\n",
              "    </tr>\n",
              "    <tr>\n",
              "      <th>22373</th>\n",
              "      <td>22374</td>\n",
              "      <td>504.112366</td>\n",
              "      <td>2401:4900:3b27:bf78:b885:bf9e:2870:91ab</td>\n",
              "      <td>2404:6800:4009:801::2001</td>\n",
              "      <td>TCP</td>\n",
              "      <td>74</td>\n",
              "      <td>2144768.0</td>\n",
              "      <td>1602.0</td>\n",
              "      <td>1602.0</td>\n",
              "      <td>256.0</td>\n",
              "      <td>IPv6</td>\n",
              "    </tr>\n",
              "    <tr>\n",
              "      <th>22371</th>\n",
              "      <td>22372</td>\n",
              "      <td>504.111944</td>\n",
              "      <td>2401:4900:3b27:bf78:b885:bf9e:2870:91ab</td>\n",
              "      <td>2404:6800:4009:801::2001</td>\n",
              "      <td>TCP</td>\n",
              "      <td>74</td>\n",
              "      <td>2144768.0</td>\n",
              "      <td>1602.0</td>\n",
              "      <td>1602.0</td>\n",
              "      <td>256.0</td>\n",
              "      <td>IPv6</td>\n",
              "    </tr>\n",
              "  </tbody>\n",
              "</table>\n",
              "</div>"
            ],
            "text/plain": [
              "         No.        Time  ... Window size scaling factor  Type\n",
              "22351  22352  504.088903  ...                      256.0  IPv6\n",
              "22399  22400  504.142613  ...                      256.0  IPv6\n",
              "22393  22394  504.131235  ...                      256.0  IPv6\n",
              "22389  22390  504.129785  ...                      256.0  IPv6\n",
              "22385  22386  504.124070  ...                      256.0  IPv6\n",
              "22383  22384  504.118474  ...                      256.0  IPv6\n",
              "22379  22380  504.117828  ...                      256.0  IPv6\n",
              "22377  22378  504.112936  ...                      256.0  IPv6\n",
              "22373  22374  504.112366  ...                      256.0  IPv6\n",
              "22371  22372  504.111944  ...                      256.0  IPv6\n",
              "\n",
              "[10 rows x 11 columns]"
            ]
          },
          "metadata": {
            "tags": []
          },
          "execution_count": 95
        }
      ]
    },
    {
      "cell_type": "code",
      "metadata": {
        "colab": {
          "base_uri": "https://localhost:8080/"
        },
        "id": "VvU5hdUE4JbA",
        "outputId": "a20ce3a9-6afe-4ffb-e968-d5766553ef7d"
      },
      "source": [
        "!pip3 install plotly_express"
      ],
      "execution_count": 96,
      "outputs": [
        {
          "output_type": "stream",
          "text": [
            "Collecting plotly_express\n",
            "  Downloading https://files.pythonhosted.org/packages/d4/d6/8a2906f51e073a4be80cab35cfa10e7a34853e60f3ed5304ac470852a08d/plotly_express-0.4.1-py2.py3-none-any.whl\n",
            "Requirement already satisfied: patsy>=0.5 in /usr/local/lib/python3.7/dist-packages (from plotly_express) (0.5.1)\n",
            "Requirement already satisfied: pandas>=0.20.0 in /usr/local/lib/python3.7/dist-packages (from plotly_express) (1.1.5)\n",
            "Requirement already satisfied: scipy>=0.18 in /usr/local/lib/python3.7/dist-packages (from plotly_express) (1.4.1)\n",
            "Requirement already satisfied: numpy>=1.11 in /usr/local/lib/python3.7/dist-packages (from plotly_express) (1.19.5)\n",
            "Requirement already satisfied: plotly>=4.1.0 in /usr/local/lib/python3.7/dist-packages (from plotly_express) (4.4.1)\n",
            "Requirement already satisfied: statsmodels>=0.9.0 in /usr/local/lib/python3.7/dist-packages (from plotly_express) (0.10.2)\n",
            "Requirement already satisfied: six in /usr/local/lib/python3.7/dist-packages (from patsy>=0.5->plotly_express) (1.15.0)\n",
            "Requirement already satisfied: pytz>=2017.2 in /usr/local/lib/python3.7/dist-packages (from pandas>=0.20.0->plotly_express) (2018.9)\n",
            "Requirement already satisfied: python-dateutil>=2.7.3 in /usr/local/lib/python3.7/dist-packages (from pandas>=0.20.0->plotly_express) (2.8.1)\n",
            "Requirement already satisfied: retrying>=1.3.3 in /usr/local/lib/python3.7/dist-packages (from plotly>=4.1.0->plotly_express) (1.3.3)\n",
            "Installing collected packages: plotly-express\n",
            "Successfully installed plotly-express-0.4.1\n"
          ],
          "name": "stdout"
        }
      ]
    },
    {
      "cell_type": "code",
      "metadata": {
        "id": "1187EOTx32mO"
      },
      "source": [
        "import plotly_express as px"
      ],
      "execution_count": 97,
      "outputs": []
    },
    {
      "cell_type": "code",
      "metadata": {
        "id": "BTOgRJAXTZ1F"
      },
      "source": [
        "fig = px.scatter(data_int, x=\"Time\", y=\"Calculated window size\",animation_frame=\"Time\",animation_group=\"Protocol\", color=\"Protocol\")\n",
        "fig.update_layout(transition = {'duration': 100000})"
      ],
      "execution_count": null,
      "outputs": []
    },
    {
      "cell_type": "markdown",
      "metadata": {
        "id": "qKGKST5sOvui"
      },
      "source": [
        "#ACCORDING TO OUR QUESTION WE HAVE TO TAKE INPUT AS TCP PACKET CAPTURE"
      ]
    },
    {
      "cell_type": "markdown",
      "metadata": {
        "id": "ywY6gjPmO6J5"
      },
      "source": [
        "##NOW WE REMOVE THE OTHER PROTOCOLS EXCEPT TCP"
      ]
    },
    {
      "cell_type": "code",
      "metadata": {
        "id": "CW-2VU7_23JZ"
      },
      "source": [
        "data_tcp = data[data['Protocol'] == \"TCP\"]"
      ],
      "execution_count": 43,
      "outputs": []
    },
    {
      "cell_type": "markdown",
      "metadata": {
        "id": "LQESQ8KHTMXz"
      },
      "source": [
        "###data_tcp is the data set which contains only TCP protocol Whereas data is the original Dataset"
      ]
    },
    {
      "cell_type": "code",
      "metadata": {
        "colab": {
          "base_uri": "https://localhost:8080/"
        },
        "id": "b_6mFclISTvr",
        "outputId": "49c1cb4f-a2a3-47cc-8d15-25b35179b214"
      },
      "source": [
        "data_tcp['Protocol'].value_counts()"
      ],
      "execution_count": 52,
      "outputs": [
        {
          "output_type": "execute_result",
          "data": {
            "text/plain": [
              "TCP    35372\n",
              "Name: Protocol, dtype: int64"
            ]
          },
          "metadata": {
            "tags": []
          },
          "execution_count": 52
        }
      ]
    },
    {
      "cell_type": "markdown",
      "metadata": {
        "id": "sIf9P7Yp1CN1"
      },
      "source": [
        "###PIE CHART WHEN TCP PROTOCOL IS ONLY THERE IN DATASET"
      ]
    },
    {
      "cell_type": "code",
      "metadata": {
        "id": "beL_cJhxXNtP"
      },
      "source": [
        "d_tcp = data_tcp.groupby('Protocol')['Protocol'].count()"
      ],
      "execution_count": 88,
      "outputs": []
    },
    {
      "cell_type": "code",
      "metadata": {
        "colab": {
          "base_uri": "https://localhost:8080/"
        },
        "id": "7beZsVMw1m8b",
        "outputId": "0a586612-10b3-42df-ffaf-434f9b075ecd"
      },
      "source": [
        "d_tcp"
      ],
      "execution_count": 89,
      "outputs": [
        {
          "output_type": "execute_result",
          "data": {
            "text/plain": [
              "Protocol\n",
              "TCP    35372\n",
              "Name: Protocol, dtype: int64"
            ]
          },
          "metadata": {
            "tags": []
          },
          "execution_count": 89
        }
      ]
    },
    {
      "cell_type": "markdown",
      "metadata": {
        "id": "tiN7oucS17M5"
      },
      "source": [
        "###BELOW PIE CHART SHOWS THAT DATA CONTAINS ONLY TCP PROTOCOL"
      ]
    },
    {
      "cell_type": "code",
      "metadata": {
        "colab": {
          "base_uri": "https://localhost:8080/",
          "height": 248
        },
        "id": "HZRhpvmA1omG",
        "outputId": "ff6ae98a-8b16-491b-8641-c3bb2dfb974f"
      },
      "source": [
        "plt.pie(d_tcp, labels=d_tcp.index, autopct=\"%.2f%%\", explode=[0], startangle=180, shadow=True);\n",
        "plt.show()"
      ],
      "execution_count": 90,
      "outputs": [
        {
          "output_type": "display_data",
          "data": {
            "image/png": "[encoded data removed]",
            "text/plain": [
              "<Figure size 432x288 with 1 Axes>"
            ]
          },
          "metadata": {
            "tags": []
          }
        }
      ]
    },
    {
      "cell_type": "code",
      "metadata": {
        "id": "KSf0Kfx2J9aY"
      },
      "source": [
        "sns.countplot(x=data_tcp['Protocol']);\n",
        "plt.xticks(rotation=90)"
      ],
      "execution_count": null,
      "outputs": []
    },
    {
      "cell_type": "code",
      "metadata": {
        "id": "X8MNrdtjaINI"
      },
      "source": [
        "sns.countplot(x=data_tcp['Type']);\n",
        "plt.xticks(rotation=90)"
      ],
      "execution_count": null,
      "outputs": []
    },
    {
      "cell_type": "code",
      "metadata": {
        "id": "twhMHPv7aRmK"
      },
      "source": [
        "fig = px.scatter(data_int, x=\"Time\", y=\"Calculated window size\",animation_frame=\"Time\",animation_group=\"Type\", color=\"Type\")\n",
        "fig.update_layout(transition = {'duration': 100000})"
      ],
      "execution_count": null,
      "outputs": []
    }
  ]
}